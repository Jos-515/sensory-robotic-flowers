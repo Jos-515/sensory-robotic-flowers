{
 "cells": [
  {
   "cell_type": "code",
   "execution_count": 3,
   "id": "703ebd03",
   "metadata": {},
   "outputs": [
    {
     "name": "stdout",
     "output_type": "stream",
     "text": [
      "tkinter did not import successfully. Please check your setup.\n"
     ]
    },
    {
     "ename": "SystemExit",
     "evalue": "1",
     "output_type": "error",
     "traceback": [
      "An exception has occurred, use %tb to see the full traceback.\n",
      "\u001b[31mSystemExit\u001b[39m\u001b[31m:\u001b[39m 1\n"
     ]
    }
   ],
   "source": [
    "from guizero import App, Text, PushButton\n",
    "\n",
    "def greet():\n",
    "    message.value = \"Hello from guizero!\"\n",
    "\n",
    "app = App(\"My App\", width=300, height=150)\n",
    "message = Text(app, text=\"Click the button\")\n",
    "button = PushButton(app, command=greet, text=\"Greet\")\n",
    "app.display()\n"
   ]
  }
 ],
 "metadata": {
  "kernelspec": {
   "display_name": "guizero-venv",
   "language": "python",
   "name": "python3"
  },
  "language_info": {
   "codemirror_mode": {
    "name": "ipython",
    "version": 3
   },
   "file_extension": ".py",
   "mimetype": "text/x-python",
   "name": "python",
   "nbconvert_exporter": "python",
   "pygments_lexer": "ipython3",
   "version": "3.13.3"
  }
 },
 "nbformat": 4,
 "nbformat_minor": 5
}
